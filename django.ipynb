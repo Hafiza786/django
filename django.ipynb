{
 "cells": [
  {
   "cell_type": "markdown",
   "metadata": {},
   "source": [
    "# Function:\n",
    "- function is a group of releted statements that perform a specific task\n",
    "- inbuild function-sum,max,,min,range.\n",
    "- userdefined functon- syntax: def funname():\n",
    "                                   .\n",
    "                                   .  \n",
    "                                   .\n",
    "                                 fun name()\n",
    "# OOPS:\n",
    "- 1.class\n",
    "- It is collection of variables and methods\n",
    "- If function existed inside the class then we call the method\n",
    "- syntax:\n",
    "class classname:\n",
    "      list of variables\n",
    "      list of methods\n",
    "2.Object\n",
    "-It is a instance of a class.\n",
    "syntax:obj_name=class_name\n",
    "\n",
    "\n",
    "## 3.Constructors\n",
    "- The main advantage of constructor is without using object we will call function\n",
    "  def __init__(self): #constructor\n",
    "  def __init__(a,b,self): we canwrite self at any place the first parameter ie a is defaault\n",
    "## 4.inheritance\n",
    "- inheriting from parent to class\n",
    "- syntax:\n",
    "  class childclass(parentclass):\n",
    "- single level inheritance\n",
    "- multilevel inheritnce\n",
    "- multiple\n",
    "\n",
    "\n",
    "                       "
   ]
  },
  {
   "cell_type": "code",
   "execution_count": null,
   "metadata": {},
   "outputs": [],
   "source": []
  }
 ],
 "metadata": {
  "kernelspec": {
   "display_name": "Python 3",
   "language": "python",
   "name": "python3"
  },
  "language_info": {
   "codemirror_mode": {
    "name": "ipython",
    "version": 3
   },
   "file_extension": ".py",
   "mimetype": "text/x-python",
   "name": "python",
   "nbconvert_exporter": "python",
   "pygments_lexer": "ipython3",
   "version": "3.7.6"
  }
 },
 "nbformat": 4,
 "nbformat_minor": 4
}
